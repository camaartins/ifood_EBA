{
 "cells": [
  {
   "cell_type": "markdown",
   "metadata": {},
   "source": [
    "# Desafio 1 - Estatística do Básico ao Avançado "
   ]
  },
  {
   "cell_type": "markdown",
   "metadata": {},
   "source": [
    "##### **Desafio Ifood**\n",
    "\n",
    "O conjunto de dados é composto por clientes da empresa Ifood com dados sobre:\n",
    "\n",
    "- Perfis de clientes\n",
    "- Preferências do produto\n",
    "- Sucessos/fracassos da campanha\n",
    "- Desempenho do canal\n",
    "- O objetivo de hoje é fazer uma análise exploratória desses dados. Responda usando a sua ferramenta de preferência:"
   ]
  },
  {
   "cell_type": "markdown",
   "metadata": {},
   "source": [
    "# Iniciando análise descritiva"
   ]
  },
  {
   "cell_type": "code",
   "execution_count": 32,
   "metadata": {},
   "outputs": [],
   "source": [
    "import pandas as pd\n",
    "import numpy as np\n",
    "import seaborn as sns"
   ]
  },
  {
   "cell_type": "markdown",
   "metadata": {},
   "source": [
    "Quantos dados temos? Linhas e colunas \n",
    "- Quais são as colunas numéricas?\n",
    "- Temos duplicados na nossa base? Se tivermos, retire-os \n",
    "- Temos dados nulos nessa base? Será que eles indicam algo? O que fazer com eles? \n",
    "- Qual é a média, mediana, 25 percentil, 75 percentil, mínimo e máximo de cada uma das colunas numéricas? "
   ]
  },
  {
   "cell_type": "code",
   "execution_count": 33,
   "metadata": {},
   "outputs": [
    {
     "data": {
      "text/html": [
       "<div>\n",
       "<style scoped>\n",
       "    .dataframe tbody tr th:only-of-type {\n",
       "        vertical-align: middle;\n",
       "    }\n",
       "\n",
       "    .dataframe tbody tr th {\n",
       "        vertical-align: top;\n",
       "    }\n",
       "\n",
       "    .dataframe thead th {\n",
       "        text-align: right;\n",
       "    }\n",
       "</style>\n",
       "<table border=\"1\" class=\"dataframe\">\n",
       "  <thead>\n",
       "    <tr style=\"text-align: right;\">\n",
       "      <th></th>\n",
       "      <th>Unnamed: 0</th>\n",
       "      <th>Income</th>\n",
       "      <th>Kidhome</th>\n",
       "      <th>Teenhome</th>\n",
       "      <th>Recency</th>\n",
       "      <th>MntWines</th>\n",
       "      <th>MntFruits</th>\n",
       "      <th>MntMeatProducts</th>\n",
       "      <th>MntFishProducts</th>\n",
       "      <th>MntSweetProducts</th>\n",
       "      <th>...</th>\n",
       "      <th>education_Graduation</th>\n",
       "      <th>education_Master</th>\n",
       "      <th>education_PhD</th>\n",
       "      <th>MntTotal</th>\n",
       "      <th>MntRegularProds</th>\n",
       "      <th>AcceptedCmpOverall</th>\n",
       "      <th>marital_status</th>\n",
       "      <th>education_level</th>\n",
       "      <th>kids</th>\n",
       "      <th>expenses</th>\n",
       "    </tr>\n",
       "  </thead>\n",
       "  <tbody>\n",
       "    <tr>\n",
       "      <th>0</th>\n",
       "      <td>0</td>\n",
       "      <td>58138.0</td>\n",
       "      <td>0</td>\n",
       "      <td>0</td>\n",
       "      <td>58</td>\n",
       "      <td>635</td>\n",
       "      <td>88</td>\n",
       "      <td>546</td>\n",
       "      <td>172</td>\n",
       "      <td>88</td>\n",
       "      <td>...</td>\n",
       "      <td>3.0</td>\n",
       "      <td>NaN</td>\n",
       "      <td>NaN</td>\n",
       "      <td>1529</td>\n",
       "      <td>1441</td>\n",
       "      <td>0</td>\n",
       "      <td>Single</td>\n",
       "      <td>Graduation</td>\n",
       "      <td>0</td>\n",
       "      <td>1529</td>\n",
       "    </tr>\n",
       "    <tr>\n",
       "      <th>1</th>\n",
       "      <td>1</td>\n",
       "      <td>46344.0</td>\n",
       "      <td>1</td>\n",
       "      <td>1</td>\n",
       "      <td>38</td>\n",
       "      <td>11</td>\n",
       "      <td>1</td>\n",
       "      <td>6</td>\n",
       "      <td>2</td>\n",
       "      <td>1</td>\n",
       "      <td>...</td>\n",
       "      <td>3.0</td>\n",
       "      <td>NaN</td>\n",
       "      <td>NaN</td>\n",
       "      <td>21</td>\n",
       "      <td>15</td>\n",
       "      <td>0</td>\n",
       "      <td>Single</td>\n",
       "      <td>Graduation</td>\n",
       "      <td>2</td>\n",
       "      <td>21</td>\n",
       "    </tr>\n",
       "    <tr>\n",
       "      <th>2</th>\n",
       "      <td>2</td>\n",
       "      <td>71613.0</td>\n",
       "      <td>0</td>\n",
       "      <td>0</td>\n",
       "      <td>26</td>\n",
       "      <td>426</td>\n",
       "      <td>49</td>\n",
       "      <td>127</td>\n",
       "      <td>111</td>\n",
       "      <td>21</td>\n",
       "      <td>...</td>\n",
       "      <td>3.0</td>\n",
       "      <td>NaN</td>\n",
       "      <td>NaN</td>\n",
       "      <td>734</td>\n",
       "      <td>692</td>\n",
       "      <td>0</td>\n",
       "      <td>Together</td>\n",
       "      <td>Graduation</td>\n",
       "      <td>0</td>\n",
       "      <td>734</td>\n",
       "    </tr>\n",
       "    <tr>\n",
       "      <th>3</th>\n",
       "      <td>3</td>\n",
       "      <td>26646.0</td>\n",
       "      <td>1</td>\n",
       "      <td>0</td>\n",
       "      <td>26</td>\n",
       "      <td>11</td>\n",
       "      <td>4</td>\n",
       "      <td>20</td>\n",
       "      <td>10</td>\n",
       "      <td>3</td>\n",
       "      <td>...</td>\n",
       "      <td>3.0</td>\n",
       "      <td>NaN</td>\n",
       "      <td>NaN</td>\n",
       "      <td>48</td>\n",
       "      <td>43</td>\n",
       "      <td>0</td>\n",
       "      <td>Together</td>\n",
       "      <td>Graduation</td>\n",
       "      <td>1</td>\n",
       "      <td>48</td>\n",
       "    </tr>\n",
       "    <tr>\n",
       "      <th>4</th>\n",
       "      <td>4</td>\n",
       "      <td>58293.0</td>\n",
       "      <td>1</td>\n",
       "      <td>0</td>\n",
       "      <td>94</td>\n",
       "      <td>173</td>\n",
       "      <td>43</td>\n",
       "      <td>118</td>\n",
       "      <td>46</td>\n",
       "      <td>27</td>\n",
       "      <td>...</td>\n",
       "      <td>NaN</td>\n",
       "      <td>NaN</td>\n",
       "      <td>5.0</td>\n",
       "      <td>407</td>\n",
       "      <td>392</td>\n",
       "      <td>0</td>\n",
       "      <td>Married</td>\n",
       "      <td>PhD</td>\n",
       "      <td>1</td>\n",
       "      <td>407</td>\n",
       "    </tr>\n",
       "    <tr>\n",
       "      <th>...</th>\n",
       "      <td>...</td>\n",
       "      <td>...</td>\n",
       "      <td>...</td>\n",
       "      <td>...</td>\n",
       "      <td>...</td>\n",
       "      <td>...</td>\n",
       "      <td>...</td>\n",
       "      <td>...</td>\n",
       "      <td>...</td>\n",
       "      <td>...</td>\n",
       "      <td>...</td>\n",
       "      <td>...</td>\n",
       "      <td>...</td>\n",
       "      <td>...</td>\n",
       "      <td>...</td>\n",
       "      <td>...</td>\n",
       "      <td>...</td>\n",
       "      <td>...</td>\n",
       "      <td>...</td>\n",
       "      <td>...</td>\n",
       "      <td>...</td>\n",
       "    </tr>\n",
       "    <tr>\n",
       "      <th>2200</th>\n",
       "      <td>2200</td>\n",
       "      <td>61223.0</td>\n",
       "      <td>0</td>\n",
       "      <td>1</td>\n",
       "      <td>46</td>\n",
       "      <td>709</td>\n",
       "      <td>43</td>\n",
       "      <td>182</td>\n",
       "      <td>42</td>\n",
       "      <td>118</td>\n",
       "      <td>...</td>\n",
       "      <td>3.0</td>\n",
       "      <td>NaN</td>\n",
       "      <td>NaN</td>\n",
       "      <td>1094</td>\n",
       "      <td>847</td>\n",
       "      <td>0</td>\n",
       "      <td>Married</td>\n",
       "      <td>Graduation</td>\n",
       "      <td>1</td>\n",
       "      <td>1094</td>\n",
       "    </tr>\n",
       "    <tr>\n",
       "      <th>2201</th>\n",
       "      <td>2201</td>\n",
       "      <td>64014.0</td>\n",
       "      <td>2</td>\n",
       "      <td>1</td>\n",
       "      <td>56</td>\n",
       "      <td>406</td>\n",
       "      <td>0</td>\n",
       "      <td>30</td>\n",
       "      <td>0</td>\n",
       "      <td>0</td>\n",
       "      <td>...</td>\n",
       "      <td>NaN</td>\n",
       "      <td>NaN</td>\n",
       "      <td>5.0</td>\n",
       "      <td>436</td>\n",
       "      <td>428</td>\n",
       "      <td>1</td>\n",
       "      <td>Together</td>\n",
       "      <td>PhD</td>\n",
       "      <td>3</td>\n",
       "      <td>436</td>\n",
       "    </tr>\n",
       "    <tr>\n",
       "      <th>2202</th>\n",
       "      <td>2202</td>\n",
       "      <td>56981.0</td>\n",
       "      <td>0</td>\n",
       "      <td>0</td>\n",
       "      <td>91</td>\n",
       "      <td>908</td>\n",
       "      <td>48</td>\n",
       "      <td>217</td>\n",
       "      <td>32</td>\n",
       "      <td>12</td>\n",
       "      <td>...</td>\n",
       "      <td>3.0</td>\n",
       "      <td>NaN</td>\n",
       "      <td>NaN</td>\n",
       "      <td>1217</td>\n",
       "      <td>1193</td>\n",
       "      <td>1</td>\n",
       "      <td>Divorced</td>\n",
       "      <td>Graduation</td>\n",
       "      <td>0</td>\n",
       "      <td>1217</td>\n",
       "    </tr>\n",
       "    <tr>\n",
       "      <th>2203</th>\n",
       "      <td>2203</td>\n",
       "      <td>69245.0</td>\n",
       "      <td>0</td>\n",
       "      <td>1</td>\n",
       "      <td>8</td>\n",
       "      <td>428</td>\n",
       "      <td>30</td>\n",
       "      <td>214</td>\n",
       "      <td>80</td>\n",
       "      <td>30</td>\n",
       "      <td>...</td>\n",
       "      <td>NaN</td>\n",
       "      <td>4.0</td>\n",
       "      <td>NaN</td>\n",
       "      <td>782</td>\n",
       "      <td>721</td>\n",
       "      <td>0</td>\n",
       "      <td>Together</td>\n",
       "      <td>Master</td>\n",
       "      <td>1</td>\n",
       "      <td>782</td>\n",
       "    </tr>\n",
       "    <tr>\n",
       "      <th>2204</th>\n",
       "      <td>2204</td>\n",
       "      <td>52869.0</td>\n",
       "      <td>1</td>\n",
       "      <td>1</td>\n",
       "      <td>40</td>\n",
       "      <td>84</td>\n",
       "      <td>3</td>\n",
       "      <td>61</td>\n",
       "      <td>2</td>\n",
       "      <td>1</td>\n",
       "      <td>...</td>\n",
       "      <td>NaN</td>\n",
       "      <td>NaN</td>\n",
       "      <td>5.0</td>\n",
       "      <td>151</td>\n",
       "      <td>130</td>\n",
       "      <td>0</td>\n",
       "      <td>Married</td>\n",
       "      <td>PhD</td>\n",
       "      <td>2</td>\n",
       "      <td>151</td>\n",
       "    </tr>\n",
       "  </tbody>\n",
       "</table>\n",
       "<p>2205 rows × 44 columns</p>\n",
       "</div>"
      ],
      "text/plain": [
       "      Unnamed: 0   Income  Kidhome  Teenhome  Recency  MntWines  MntFruits  \\\n",
       "0              0  58138.0        0         0       58       635         88   \n",
       "1              1  46344.0        1         1       38        11          1   \n",
       "2              2  71613.0        0         0       26       426         49   \n",
       "3              3  26646.0        1         0       26        11          4   \n",
       "4              4  58293.0        1         0       94       173         43   \n",
       "...          ...      ...      ...       ...      ...       ...        ...   \n",
       "2200        2200  61223.0        0         1       46       709         43   \n",
       "2201        2201  64014.0        2         1       56       406          0   \n",
       "2202        2202  56981.0        0         0       91       908         48   \n",
       "2203        2203  69245.0        0         1        8       428         30   \n",
       "2204        2204  52869.0        1         1       40        84          3   \n",
       "\n",
       "      MntMeatProducts  MntFishProducts  MntSweetProducts  ...  \\\n",
       "0                 546              172                88  ...   \n",
       "1                   6                2                 1  ...   \n",
       "2                 127              111                21  ...   \n",
       "3                  20               10                 3  ...   \n",
       "4                 118               46                27  ...   \n",
       "...               ...              ...               ...  ...   \n",
       "2200              182               42               118  ...   \n",
       "2201               30                0                 0  ...   \n",
       "2202              217               32                12  ...   \n",
       "2203              214               80                30  ...   \n",
       "2204               61                2                 1  ...   \n",
       "\n",
       "      education_Graduation  education_Master  education_PhD  MntTotal  \\\n",
       "0                      3.0               NaN            NaN      1529   \n",
       "1                      3.0               NaN            NaN        21   \n",
       "2                      3.0               NaN            NaN       734   \n",
       "3                      3.0               NaN            NaN        48   \n",
       "4                      NaN               NaN            5.0       407   \n",
       "...                    ...               ...            ...       ...   \n",
       "2200                   3.0               NaN            NaN      1094   \n",
       "2201                   NaN               NaN            5.0       436   \n",
       "2202                   3.0               NaN            NaN      1217   \n",
       "2203                   NaN               4.0            NaN       782   \n",
       "2204                   NaN               NaN            5.0       151   \n",
       "\n",
       "      MntRegularProds  AcceptedCmpOverall  marital_status  education_level  \\\n",
       "0                1441                   0          Single       Graduation   \n",
       "1                  15                   0          Single       Graduation   \n",
       "2                 692                   0        Together       Graduation   \n",
       "3                  43                   0        Together       Graduation   \n",
       "4                 392                   0         Married              PhD   \n",
       "...               ...                 ...             ...              ...   \n",
       "2200              847                   0         Married       Graduation   \n",
       "2201              428                   1        Together              PhD   \n",
       "2202             1193                   1        Divorced       Graduation   \n",
       "2203              721                   0        Together           Master   \n",
       "2204              130                   0         Married              PhD   \n",
       "\n",
       "      kids  expenses  \n",
       "0        0      1529  \n",
       "1        2        21  \n",
       "2        0       734  \n",
       "3        1        48  \n",
       "4        1       407  \n",
       "...    ...       ...  \n",
       "2200     1      1094  \n",
       "2201     3       436  \n",
       "2202     0      1217  \n",
       "2203     1       782  \n",
       "2204     2       151  \n",
       "\n",
       "[2205 rows x 44 columns]"
      ]
     },
     "execution_count": 33,
     "metadata": {},
     "output_type": "execute_result"
    }
   ],
   "source": [
    "df = pd.read_csv(\"C:\\\\Users\\\\camil\\\\Desktop\\\\Journey in Data\\\\Desafio 1 - EBA\\\\mkt_data.csv\")\n",
    "df"
   ]
  },
  {
   "cell_type": "code",
   "execution_count": 34,
   "metadata": {},
   "outputs": [
    {
     "data": {
      "text/plain": [
       "(2205, 44)"
      ]
     },
     "execution_count": 34,
     "metadata": {},
     "output_type": "execute_result"
    }
   ],
   "source": [
    "# Verificando o formato (LxC) do meu df\n",
    "df.shape"
   ]
  },
  {
   "cell_type": "markdown",
   "metadata": {},
   "source": [
    "Temos 2205 linhas e 44 colunas"
   ]
  },
  {
   "cell_type": "code",
   "execution_count": 35,
   "metadata": {},
   "outputs": [
    {
     "name": "stdout",
     "output_type": "stream",
     "text": [
      "<class 'pandas.core.frame.DataFrame'>\n",
      "RangeIndex: 2205 entries, 0 to 2204\n",
      "Data columns (total 44 columns):\n",
      " #   Column                Non-Null Count  Dtype  \n",
      "---  ------                --------------  -----  \n",
      " 0   Unnamed: 0            2205 non-null   int64  \n",
      " 1   Income                2205 non-null   float64\n",
      " 2   Kidhome               2205 non-null   int64  \n",
      " 3   Teenhome              2205 non-null   int64  \n",
      " 4   Recency               2205 non-null   int64  \n",
      " 5   MntWines              2205 non-null   int64  \n",
      " 6   MntFruits             2205 non-null   int64  \n",
      " 7   MntMeatProducts       2205 non-null   int64  \n",
      " 8   MntFishProducts       2205 non-null   int64  \n",
      " 9   MntSweetProducts      2205 non-null   int64  \n",
      " 10  MntGoldProds          2205 non-null   int64  \n",
      " 11  NumDealsPurchases     2205 non-null   int64  \n",
      " 12  NumWebPurchases       2205 non-null   int64  \n",
      " 13  NumCatalogPurchases   2205 non-null   int64  \n",
      " 14  NumStorePurchases     2205 non-null   int64  \n",
      " 15  NumWebVisitsMonth     2205 non-null   int64  \n",
      " 16  AcceptedCmp3          2205 non-null   int64  \n",
      " 17  AcceptedCmp4          2205 non-null   int64  \n",
      " 18  AcceptedCmp5          2205 non-null   int64  \n",
      " 19  AcceptedCmp1          2205 non-null   int64  \n",
      " 20  AcceptedCmp2          2205 non-null   int64  \n",
      " 21  Complain              2205 non-null   int64  \n",
      " 22  Z_CostContact         2205 non-null   int64  \n",
      " 23  Z_Revenue             2205 non-null   int64  \n",
      " 24  Response              2205 non-null   int64  \n",
      " 25  Age                   2205 non-null   int64  \n",
      " 26  Customer_Days         2205 non-null   int64  \n",
      " 27  marital_Divorced      230 non-null    float64\n",
      " 28  marital_Married       854 non-null    float64\n",
      " 29  marital_Single        477 non-null    float64\n",
      " 30  marital_Together      568 non-null    float64\n",
      " 31  marital_Widow         76 non-null     float64\n",
      " 32  education_2n Cycle    198 non-null    float64\n",
      " 33  education_Basic       54 non-null     float64\n",
      " 34  education_Graduation  1113 non-null   float64\n",
      " 35  education_Master      364 non-null    float64\n",
      " 36  education_PhD         476 non-null    float64\n",
      " 37  MntTotal              2205 non-null   int64  \n",
      " 38  MntRegularProds       2205 non-null   int64  \n",
      " 39  AcceptedCmpOverall    2205 non-null   int64  \n",
      " 40  marital_status        2205 non-null   object \n",
      " 41  education_level       2205 non-null   object \n",
      " 42  kids                  2205 non-null   int64  \n",
      " 43  expenses              2205 non-null   int64  \n",
      "dtypes: float64(11), int64(31), object(2)\n",
      "memory usage: 758.1+ KB\n"
     ]
    }
   ],
   "source": [
    "# Verificando as informações das colunas do df\n",
    "df.info()"
   ]
  },
  {
   "cell_type": "code",
   "execution_count": 36,
   "metadata": {},
   "outputs": [
    {
     "data": {
      "text/plain": [
       "Index(['Unnamed: 0', 'Income', 'Kidhome', 'Teenhome', 'Recency', 'MntWines',\n",
       "       'MntFruits', 'MntMeatProducts', 'MntFishProducts', 'MntSweetProducts',\n",
       "       'MntGoldProds', 'NumDealsPurchases', 'NumWebPurchases',\n",
       "       'NumCatalogPurchases', 'NumStorePurchases', 'NumWebVisitsMonth',\n",
       "       'AcceptedCmp3', 'AcceptedCmp4', 'AcceptedCmp5', 'AcceptedCmp1',\n",
       "       'AcceptedCmp2', 'Complain', 'Z_CostContact', 'Z_Revenue', 'Response',\n",
       "       'Age', 'Customer_Days', 'marital_Divorced', 'marital_Married',\n",
       "       'marital_Single', 'marital_Together', 'marital_Widow',\n",
       "       'education_2n Cycle', 'education_Basic', 'education_Graduation',\n",
       "       'education_Master', 'education_PhD', 'MntTotal', 'MntRegularProds',\n",
       "       'AcceptedCmpOverall', 'kids', 'expenses'],\n",
       "      dtype='object')"
      ]
     },
     "execution_count": 36,
     "metadata": {},
     "output_type": "execute_result"
    }
   ],
   "source": [
    "# Listando todos os possíveis formatos de número do df para selecionar apenas as numéricas\n",
    "numerics = ['int16', 'int32', 'int64', 'float16', 'float32', 'float64']\n",
    "df.select_dtypes(include = numerics).columns"
   ]
  },
  {
   "cell_type": "markdown",
   "metadata": {},
   "source": [
    "As colunas numéricas são as litadas acima"
   ]
  },
  {
   "cell_type": "code",
   "execution_count": 37,
   "metadata": {},
   "outputs": [
    {
     "data": {
      "text/plain": [
       "0"
      ]
     },
     "execution_count": 37,
     "metadata": {},
     "output_type": "execute_result"
    }
   ],
   "source": [
    "# Verificando quantos dados duplicados existem para ver se é necessário eliminá-los\n",
    "df.duplicated().sum()"
   ]
  },
  {
   "cell_type": "markdown",
   "metadata": {},
   "source": [
    "Não existem valores duplicados"
   ]
  },
  {
   "cell_type": "code",
   "execution_count": 38,
   "metadata": {},
   "outputs": [
    {
     "data": {
      "text/plain": [
       "Unnamed: 0                 0\n",
       "Income                     0\n",
       "Kidhome                    0\n",
       "Teenhome                   0\n",
       "Recency                    0\n",
       "MntWines                   0\n",
       "MntFruits                  0\n",
       "MntMeatProducts            0\n",
       "MntFishProducts            0\n",
       "MntSweetProducts           0\n",
       "MntGoldProds               0\n",
       "NumDealsPurchases          0\n",
       "NumWebPurchases            0\n",
       "NumCatalogPurchases        0\n",
       "NumStorePurchases          0\n",
       "NumWebVisitsMonth          0\n",
       "AcceptedCmp3               0\n",
       "AcceptedCmp4               0\n",
       "AcceptedCmp5               0\n",
       "AcceptedCmp1               0\n",
       "AcceptedCmp2               0\n",
       "Complain                   0\n",
       "Z_CostContact              0\n",
       "Z_Revenue                  0\n",
       "Response                   0\n",
       "Age                        0\n",
       "Customer_Days              0\n",
       "marital_Divorced        1975\n",
       "marital_Married         1351\n",
       "marital_Single          1728\n",
       "marital_Together        1637\n",
       "marital_Widow           2129\n",
       "education_2n Cycle      2007\n",
       "education_Basic         2151\n",
       "education_Graduation    1092\n",
       "education_Master        1841\n",
       "education_PhD           1729\n",
       "MntTotal                   0\n",
       "MntRegularProds            0\n",
       "AcceptedCmpOverall         0\n",
       "marital_status             0\n",
       "education_level            0\n",
       "kids                       0\n",
       "expenses                   0\n",
       "dtype: int64"
      ]
     },
     "execution_count": 38,
     "metadata": {},
     "output_type": "execute_result"
    }
   ],
   "source": [
    "# Verificando se existem valores nulos no df\n",
    "df.isna().sum()"
   ]
  },
  {
   "cell_type": "markdown",
   "metadata": {},
   "source": [
    "Existem dados nulos na base, nas colunas: marital_Divorced, marital_Married, marital_Single, marital_Together, marital_Widow, education_2n Cycle, education_Basic, education_Graduation, education_Master, education_PhD. Provavelmente são informações que os usuários não forneceram durante o cadastro no sistema ou que a pessoa não tem aquela característica."
   ]
  },
  {
   "cell_type": "code",
   "execution_count": 39,
   "metadata": {},
   "outputs": [
    {
     "data": {
      "text/plain": [
       "education_2n Cycle\n",
       "1.0    198\n",
       "Name: count, dtype: int64"
      ]
     },
     "execution_count": 39,
     "metadata": {},
     "output_type": "execute_result"
    }
   ],
   "source": [
    "df['education_2n Cycle'].value_counts()\n",
    "# df.education_Basic.value_counts()\n",
    "# df.education_Graduation.value_counts()\n",
    "# df.education_Master.value_counts()\n",
    "# df.education_PhD.value_counts()"
   ]
  },
  {
   "cell_type": "code",
   "execution_count": 40,
   "metadata": {},
   "outputs": [
    {
     "data": {
      "text/plain": [
       "marital_Widow\n",
       "2.0    76\n",
       "Name: count, dtype: int64"
      ]
     },
     "execution_count": 40,
     "metadata": {},
     "output_type": "execute_result"
    }
   ],
   "source": [
    "# df.marital_Divorced.value_counts()\n",
    "# df.marital_Married.value_counts()\n",
    "# df.marital_Single.value_counts()\n",
    "# df.marital_Together.value_counts()\n",
    "df.marital_Widow.value_counts()\n"
   ]
  },
  {
   "cell_type": "markdown",
   "metadata": {},
   "source": [
    "Como é possível observar acima, a coluna adota um único valor (1) apresentado 198 vezes para a coluna education_2n Cycle. Partindo da análise dos valores das colunas, é possível perceber que temos como atributos:\n",
    "- 1: education_2n Cycle\n",
    "- 2: education_Basic\n",
    "- 3: education_Graduation\n",
    "- 4: education_Master\n",
    "- 5: education_PhD\n",
    "---\n",
    "- 1: marital_Divorced\n",
    "- 2: marital_Widow\n",
    "- 3: marital_Together\n",
    "- 4: marital_Single\n",
    "- 5: marital_Married\n",
    "\n",
    "O que é um grande indicativo de que os valores que estão nulos é porque, provavelmente, a pessoa não tem aquela determinada variável. Então, é interessante transformar esses valores em booleano: 1 - fez, 0 - não fez."
   ]
  },
  {
   "cell_type": "code",
   "execution_count": 41,
   "metadata": {},
   "outputs": [],
   "source": [
    "colunas_com_nulos = [\n",
    "    'marital_Divorced', \n",
    "    'marital_Married', \n",
    "    'marital_Single', \n",
    "    'marital_Together', \n",
    "    'marital_Widow', \n",
    "    'education_2n Cycle', \n",
    "    'education_Basic', \n",
    "    'education_Graduation', \n",
    "    'education_Master', \n",
    "    'education_PhD']"
   ]
  },
  {
   "cell_type": "code",
   "execution_count": 42,
   "metadata": {},
   "outputs": [],
   "source": [
    "for item in colunas_com_nulos:\n",
    "    df['booleano'+str(item)] = np.where(df[item].isnull(), 0, 1)"
   ]
  },
  {
   "cell_type": "code",
   "execution_count": 43,
   "metadata": {},
   "outputs": [
    {
     "data": {
      "text/plain": [
       "Index(['Unnamed: 0', 'Income', 'Kidhome', 'Teenhome', 'Recency', 'MntWines',\n",
       "       'MntFruits', 'MntMeatProducts', 'MntFishProducts', 'MntSweetProducts',\n",
       "       'MntGoldProds', 'NumDealsPurchases', 'NumWebPurchases',\n",
       "       'NumCatalogPurchases', 'NumStorePurchases', 'NumWebVisitsMonth',\n",
       "       'AcceptedCmp3', 'AcceptedCmp4', 'AcceptedCmp5', 'AcceptedCmp1',\n",
       "       'AcceptedCmp2', 'Complain', 'Z_CostContact', 'Z_Revenue', 'Response',\n",
       "       'Age', 'Customer_Days', 'marital_Divorced', 'marital_Married',\n",
       "       'marital_Single', 'marital_Together', 'marital_Widow',\n",
       "       'education_2n Cycle', 'education_Basic', 'education_Graduation',\n",
       "       'education_Master', 'education_PhD', 'MntTotal', 'MntRegularProds',\n",
       "       'AcceptedCmpOverall', 'marital_status', 'education_level', 'kids',\n",
       "       'expenses', 'booleanomarital_Divorced', 'booleanomarital_Married',\n",
       "       'booleanomarital_Single', 'booleanomarital_Together',\n",
       "       'booleanomarital_Widow', 'booleanoeducation_2n Cycle',\n",
       "       'booleanoeducation_Basic', 'booleanoeducation_Graduation',\n",
       "       'booleanoeducation_Master', 'booleanoeducation_PhD'],\n",
       "      dtype='object')"
      ]
     },
     "execution_count": 43,
     "metadata": {},
     "output_type": "execute_result"
    }
   ],
   "source": [
    "df.columns"
   ]
  },
  {
   "cell_type": "code",
   "execution_count": 44,
   "metadata": {},
   "outputs": [
    {
     "data": {
      "text/html": [
       "<div>\n",
       "<style scoped>\n",
       "    .dataframe tbody tr th:only-of-type {\n",
       "        vertical-align: middle;\n",
       "    }\n",
       "\n",
       "    .dataframe tbody tr th {\n",
       "        vertical-align: top;\n",
       "    }\n",
       "\n",
       "    .dataframe thead th {\n",
       "        text-align: right;\n",
       "    }\n",
       "</style>\n",
       "<table border=\"1\" class=\"dataframe\">\n",
       "  <thead>\n",
       "    <tr style=\"text-align: right;\">\n",
       "      <th></th>\n",
       "      <th>Unnamed: 0</th>\n",
       "      <th>Income</th>\n",
       "      <th>Kidhome</th>\n",
       "      <th>Teenhome</th>\n",
       "      <th>Recency</th>\n",
       "      <th>MntWines</th>\n",
       "      <th>MntFruits</th>\n",
       "      <th>MntMeatProducts</th>\n",
       "      <th>MntFishProducts</th>\n",
       "      <th>MntSweetProducts</th>\n",
       "      <th>...</th>\n",
       "      <th>booleanomarital_Divorced</th>\n",
       "      <th>booleanomarital_Married</th>\n",
       "      <th>booleanomarital_Single</th>\n",
       "      <th>booleanomarital_Together</th>\n",
       "      <th>booleanomarital_Widow</th>\n",
       "      <th>booleanoeducation_2n Cycle</th>\n",
       "      <th>booleanoeducation_Basic</th>\n",
       "      <th>booleanoeducation_Graduation</th>\n",
       "      <th>booleanoeducation_Master</th>\n",
       "      <th>booleanoeducation_PhD</th>\n",
       "    </tr>\n",
       "  </thead>\n",
       "  <tbody>\n",
       "    <tr>\n",
       "      <th>count</th>\n",
       "      <td>2205.000000</td>\n",
       "      <td>2205.000000</td>\n",
       "      <td>2205.000000</td>\n",
       "      <td>2205.000000</td>\n",
       "      <td>2205.000000</td>\n",
       "      <td>2205.000000</td>\n",
       "      <td>2205.000000</td>\n",
       "      <td>2205.000000</td>\n",
       "      <td>2205.000000</td>\n",
       "      <td>2205.000000</td>\n",
       "      <td>...</td>\n",
       "      <td>2205.000000</td>\n",
       "      <td>2205.000000</td>\n",
       "      <td>2205.000000</td>\n",
       "      <td>2205.000000</td>\n",
       "      <td>2205.000000</td>\n",
       "      <td>2205.000000</td>\n",
       "      <td>2205.000000</td>\n",
       "      <td>2205.000000</td>\n",
       "      <td>2205.000000</td>\n",
       "      <td>2205.000000</td>\n",
       "    </tr>\n",
       "    <tr>\n",
       "      <th>mean</th>\n",
       "      <td>1102.000000</td>\n",
       "      <td>51622.094785</td>\n",
       "      <td>0.442177</td>\n",
       "      <td>0.506576</td>\n",
       "      <td>49.009070</td>\n",
       "      <td>306.164626</td>\n",
       "      <td>26.403175</td>\n",
       "      <td>165.312018</td>\n",
       "      <td>37.756463</td>\n",
       "      <td>27.128345</td>\n",
       "      <td>...</td>\n",
       "      <td>0.104308</td>\n",
       "      <td>0.387302</td>\n",
       "      <td>0.216327</td>\n",
       "      <td>0.257596</td>\n",
       "      <td>0.034467</td>\n",
       "      <td>0.089796</td>\n",
       "      <td>0.024490</td>\n",
       "      <td>0.504762</td>\n",
       "      <td>0.165079</td>\n",
       "      <td>0.215873</td>\n",
       "    </tr>\n",
       "    <tr>\n",
       "      <th>std</th>\n",
       "      <td>636.672993</td>\n",
       "      <td>20713.063826</td>\n",
       "      <td>0.537132</td>\n",
       "      <td>0.544380</td>\n",
       "      <td>28.932111</td>\n",
       "      <td>337.493839</td>\n",
       "      <td>39.784484</td>\n",
       "      <td>217.784507</td>\n",
       "      <td>54.824635</td>\n",
       "      <td>41.130468</td>\n",
       "      <td>...</td>\n",
       "      <td>0.305730</td>\n",
       "      <td>0.487244</td>\n",
       "      <td>0.411833</td>\n",
       "      <td>0.437410</td>\n",
       "      <td>0.182467</td>\n",
       "      <td>0.285954</td>\n",
       "      <td>0.154599</td>\n",
       "      <td>0.500091</td>\n",
       "      <td>0.371336</td>\n",
       "      <td>0.411520</td>\n",
       "    </tr>\n",
       "    <tr>\n",
       "      <th>min</th>\n",
       "      <td>0.000000</td>\n",
       "      <td>1730.000000</td>\n",
       "      <td>0.000000</td>\n",
       "      <td>0.000000</td>\n",
       "      <td>0.000000</td>\n",
       "      <td>0.000000</td>\n",
       "      <td>0.000000</td>\n",
       "      <td>0.000000</td>\n",
       "      <td>0.000000</td>\n",
       "      <td>0.000000</td>\n",
       "      <td>...</td>\n",
       "      <td>0.000000</td>\n",
       "      <td>0.000000</td>\n",
       "      <td>0.000000</td>\n",
       "      <td>0.000000</td>\n",
       "      <td>0.000000</td>\n",
       "      <td>0.000000</td>\n",
       "      <td>0.000000</td>\n",
       "      <td>0.000000</td>\n",
       "      <td>0.000000</td>\n",
       "      <td>0.000000</td>\n",
       "    </tr>\n",
       "    <tr>\n",
       "      <th>25%</th>\n",
       "      <td>551.000000</td>\n",
       "      <td>35196.000000</td>\n",
       "      <td>0.000000</td>\n",
       "      <td>0.000000</td>\n",
       "      <td>24.000000</td>\n",
       "      <td>24.000000</td>\n",
       "      <td>2.000000</td>\n",
       "      <td>16.000000</td>\n",
       "      <td>3.000000</td>\n",
       "      <td>1.000000</td>\n",
       "      <td>...</td>\n",
       "      <td>0.000000</td>\n",
       "      <td>0.000000</td>\n",
       "      <td>0.000000</td>\n",
       "      <td>0.000000</td>\n",
       "      <td>0.000000</td>\n",
       "      <td>0.000000</td>\n",
       "      <td>0.000000</td>\n",
       "      <td>0.000000</td>\n",
       "      <td>0.000000</td>\n",
       "      <td>0.000000</td>\n",
       "    </tr>\n",
       "    <tr>\n",
       "      <th>50%</th>\n",
       "      <td>1102.000000</td>\n",
       "      <td>51287.000000</td>\n",
       "      <td>0.000000</td>\n",
       "      <td>0.000000</td>\n",
       "      <td>49.000000</td>\n",
       "      <td>178.000000</td>\n",
       "      <td>8.000000</td>\n",
       "      <td>68.000000</td>\n",
       "      <td>12.000000</td>\n",
       "      <td>8.000000</td>\n",
       "      <td>...</td>\n",
       "      <td>0.000000</td>\n",
       "      <td>0.000000</td>\n",
       "      <td>0.000000</td>\n",
       "      <td>0.000000</td>\n",
       "      <td>0.000000</td>\n",
       "      <td>0.000000</td>\n",
       "      <td>0.000000</td>\n",
       "      <td>1.000000</td>\n",
       "      <td>0.000000</td>\n",
       "      <td>0.000000</td>\n",
       "    </tr>\n",
       "    <tr>\n",
       "      <th>75%</th>\n",
       "      <td>1653.000000</td>\n",
       "      <td>68281.000000</td>\n",
       "      <td>1.000000</td>\n",
       "      <td>1.000000</td>\n",
       "      <td>74.000000</td>\n",
       "      <td>507.000000</td>\n",
       "      <td>33.000000</td>\n",
       "      <td>232.000000</td>\n",
       "      <td>50.000000</td>\n",
       "      <td>34.000000</td>\n",
       "      <td>...</td>\n",
       "      <td>0.000000</td>\n",
       "      <td>1.000000</td>\n",
       "      <td>0.000000</td>\n",
       "      <td>1.000000</td>\n",
       "      <td>0.000000</td>\n",
       "      <td>0.000000</td>\n",
       "      <td>0.000000</td>\n",
       "      <td>1.000000</td>\n",
       "      <td>0.000000</td>\n",
       "      <td>0.000000</td>\n",
       "    </tr>\n",
       "    <tr>\n",
       "      <th>max</th>\n",
       "      <td>2204.000000</td>\n",
       "      <td>113734.000000</td>\n",
       "      <td>2.000000</td>\n",
       "      <td>2.000000</td>\n",
       "      <td>99.000000</td>\n",
       "      <td>1493.000000</td>\n",
       "      <td>199.000000</td>\n",
       "      <td>1725.000000</td>\n",
       "      <td>259.000000</td>\n",
       "      <td>262.000000</td>\n",
       "      <td>...</td>\n",
       "      <td>1.000000</td>\n",
       "      <td>1.000000</td>\n",
       "      <td>1.000000</td>\n",
       "      <td>1.000000</td>\n",
       "      <td>1.000000</td>\n",
       "      <td>1.000000</td>\n",
       "      <td>1.000000</td>\n",
       "      <td>1.000000</td>\n",
       "      <td>1.000000</td>\n",
       "      <td>1.000000</td>\n",
       "    </tr>\n",
       "  </tbody>\n",
       "</table>\n",
       "<p>8 rows × 52 columns</p>\n",
       "</div>"
      ],
      "text/plain": [
       "        Unnamed: 0         Income      Kidhome     Teenhome      Recency  \\\n",
       "count  2205.000000    2205.000000  2205.000000  2205.000000  2205.000000   \n",
       "mean   1102.000000   51622.094785     0.442177     0.506576    49.009070   \n",
       "std     636.672993   20713.063826     0.537132     0.544380    28.932111   \n",
       "min       0.000000    1730.000000     0.000000     0.000000     0.000000   \n",
       "25%     551.000000   35196.000000     0.000000     0.000000    24.000000   \n",
       "50%    1102.000000   51287.000000     0.000000     0.000000    49.000000   \n",
       "75%    1653.000000   68281.000000     1.000000     1.000000    74.000000   \n",
       "max    2204.000000  113734.000000     2.000000     2.000000    99.000000   \n",
       "\n",
       "          MntWines    MntFruits  MntMeatProducts  MntFishProducts  \\\n",
       "count  2205.000000  2205.000000      2205.000000      2205.000000   \n",
       "mean    306.164626    26.403175       165.312018        37.756463   \n",
       "std     337.493839    39.784484       217.784507        54.824635   \n",
       "min       0.000000     0.000000         0.000000         0.000000   \n",
       "25%      24.000000     2.000000        16.000000         3.000000   \n",
       "50%     178.000000     8.000000        68.000000        12.000000   \n",
       "75%     507.000000    33.000000       232.000000        50.000000   \n",
       "max    1493.000000   199.000000      1725.000000       259.000000   \n",
       "\n",
       "       MntSweetProducts  ...  booleanomarital_Divorced  \\\n",
       "count       2205.000000  ...               2205.000000   \n",
       "mean          27.128345  ...                  0.104308   \n",
       "std           41.130468  ...                  0.305730   \n",
       "min            0.000000  ...                  0.000000   \n",
       "25%            1.000000  ...                  0.000000   \n",
       "50%            8.000000  ...                  0.000000   \n",
       "75%           34.000000  ...                  0.000000   \n",
       "max          262.000000  ...                  1.000000   \n",
       "\n",
       "       booleanomarital_Married  booleanomarital_Single  \\\n",
       "count              2205.000000             2205.000000   \n",
       "mean                  0.387302                0.216327   \n",
       "std                   0.487244                0.411833   \n",
       "min                   0.000000                0.000000   \n",
       "25%                   0.000000                0.000000   \n",
       "50%                   0.000000                0.000000   \n",
       "75%                   1.000000                0.000000   \n",
       "max                   1.000000                1.000000   \n",
       "\n",
       "       booleanomarital_Together  booleanomarital_Widow  \\\n",
       "count               2205.000000            2205.000000   \n",
       "mean                   0.257596               0.034467   \n",
       "std                    0.437410               0.182467   \n",
       "min                    0.000000               0.000000   \n",
       "25%                    0.000000               0.000000   \n",
       "50%                    0.000000               0.000000   \n",
       "75%                    1.000000               0.000000   \n",
       "max                    1.000000               1.000000   \n",
       "\n",
       "       booleanoeducation_2n Cycle  booleanoeducation_Basic  \\\n",
       "count                 2205.000000              2205.000000   \n",
       "mean                     0.089796                 0.024490   \n",
       "std                      0.285954                 0.154599   \n",
       "min                      0.000000                 0.000000   \n",
       "25%                      0.000000                 0.000000   \n",
       "50%                      0.000000                 0.000000   \n",
       "75%                      0.000000                 0.000000   \n",
       "max                      1.000000                 1.000000   \n",
       "\n",
       "       booleanoeducation_Graduation  booleanoeducation_Master  \\\n",
       "count                   2205.000000               2205.000000   \n",
       "mean                       0.504762                  0.165079   \n",
       "std                        0.500091                  0.371336   \n",
       "min                        0.000000                  0.000000   \n",
       "25%                        0.000000                  0.000000   \n",
       "50%                        1.000000                  0.000000   \n",
       "75%                        1.000000                  0.000000   \n",
       "max                        1.000000                  1.000000   \n",
       "\n",
       "       booleanoeducation_PhD  \n",
       "count            2205.000000  \n",
       "mean                0.215873  \n",
       "std                 0.411520  \n",
       "min                 0.000000  \n",
       "25%                 0.000000  \n",
       "50%                 0.000000  \n",
       "75%                 0.000000  \n",
       "max                 1.000000  \n",
       "\n",
       "[8 rows x 52 columns]"
      ]
     },
     "execution_count": 44,
     "metadata": {},
     "output_type": "execute_result"
    }
   ],
   "source": [
    "# Analisando medidas para as colunas numéricas\n",
    "df.describe(include = numerics)"
   ]
  },
  {
   "cell_type": "markdown",
   "metadata": {},
   "source": [
    "Vamos agora entender o perfil de clientes que temos\n",
    "\n",
    "- Qual é o maior salário encontrado na nossa base? Veja na coluna Income\n",
    "- Qual é a distribuição de salário na nossa base? Temos clientes que ganham muito bem e outros que não ganham muito bem? Veja na coluna Income\n",
    "- Nossos clientes tem níveis de educação maiores ou menores? Veja na coluna education_level\n",
    "- Quantos clientes temos em cada estado civil? Veja na coluna marital_status"
   ]
  },
  {
   "cell_type": "code",
   "execution_count": 45,
   "metadata": {},
   "outputs": [
    {
     "data": {
      "text/plain": [
       "count      2205.000000\n",
       "mean      51622.094785\n",
       "std       20713.063826\n",
       "min        1730.000000\n",
       "25%       35196.000000\n",
       "50%       51287.000000\n",
       "75%       68281.000000\n",
       "max      113734.000000\n",
       "Name: Income, dtype: float64"
      ]
     },
     "execution_count": 45,
     "metadata": {},
     "output_type": "execute_result"
    }
   ],
   "source": [
    "df.Income.describe()"
   ]
  },
  {
   "cell_type": "markdown",
   "metadata": {},
   "source": [
    "O maior salário na base é 113.734,00"
   ]
  },
  {
   "cell_type": "code",
   "execution_count": 46,
   "metadata": {},
   "outputs": [
    {
     "data": {
      "image/png": "[encoded data removed]",
      "text/plain": [
       "<Figure size 640x480 with 1 Axes>"
      ]
     },
     "metadata": {},
     "output_type": "display_data"
    }
   ],
   "source": [
    "# Analisando a distribuição do salário\n",
    "sns.set_style('whitegrid')\n",
    "\n",
    "fig = sns.histplot(x='Income', data = df)"
   ]
  },
  {
   "cell_type": "code",
   "execution_count": 47,
   "metadata": {},
   "outputs": [
    {
     "data": {
      "image/png": "[encoded data removed]",
      "text/plain": [
       "<Figure size 640x480 with 1 Axes>"
      ]
     },
     "metadata": {},
     "output_type": "display_data"
    }
   ],
   "source": [
    "# Analisando a distribuição do salário\n",
    "sns.set_style('whitegrid')\n",
    "\n",
    "fig = sns.boxplot(x = 'Income', data = df)"
   ]
  },
  {
   "cell_type": "markdown",
   "metadata": {},
   "source": [
    "Além de analisar os gráficos, podemos calcular o coeficiente de variação. Ele, nada mais é, do que uma média que fornece uma compreensão relativa da variabilidade dos dados, permitindo que sejam feitas comparações entre diferentes conjuntos de dados. Quanto mais próximo de 1, mais dispersos os dados estão em relação à média."
   ]
  },
  {
   "cell_type": "code",
   "execution_count": 48,
   "metadata": {},
   "outputs": [
    {
     "data": {
      "text/plain": [
       "40.12441554786958"
      ]
     },
     "execution_count": 48,
     "metadata": {},
     "output_type": "execute_result"
    }
   ],
   "source": [
    "cv = (df.Income.std()/df.Income.mean())*100\n",
    "cv\n",
    "    # (desvio / media )*100"
   ]
  },
  {
   "cell_type": "markdown",
   "metadata": {},
   "source": [
    "Podemos notar que nossos dados estão dispersos, com um coeficiênte de variação de 40%."
   ]
  },
  {
   "cell_type": "markdown",
   "metadata": {},
   "source": [
    "Além disso, podemos analisar a distribuição por meio do cálculo do skew. Ele fornece um cálculo para verificar quanto os dados estão distribuídos simetricamente em relação à média. Dessa forma:\n",
    "- skew > 0 : assimetria positiva (à direita). A cauda da curva será mais longa para valores maiores do eixo x.\n",
    "- skew < 0: assimetria negativa (à esquerda). A cauda da curva será mais longa para valores menores do eixo x.\n",
    "- skew = 0: Distribuição simétrica (Curva normal)."
   ]
  },
  {
   "cell_type": "code",
   "execution_count": 49,
   "metadata": {},
   "outputs": [
    {
     "data": {
      "text/plain": [
       "0.013164263414417078"
      ]
     },
     "execution_count": 49,
     "metadata": {},
     "output_type": "execute_result"
    }
   ],
   "source": [
    "df.Income.skew()"
   ]
  },
  {
   "cell_type": "markdown",
   "metadata": {},
   "source": [
    "Temos, então, uma curva próxima de normal."
   ]
  },
  {
   "cell_type": "code",
   "execution_count": 50,
   "metadata": {},
   "outputs": [
    {
     "data": {
      "text/plain": [
       "array(['Graduation', 'PhD', 'Master', 'Basic', '2n Cycle'], dtype=object)"
      ]
     },
     "execution_count": 50,
     "metadata": {},
     "output_type": "execute_result"
    }
   ],
   "source": [
    "# Verificando qual nível de educação dos clientes\n",
    "\n",
    "df.education_level.unique()"
   ]
  },
  {
   "cell_type": "code",
   "execution_count": 51,
   "metadata": {},
   "outputs": [
    {
     "data": {
      "image/png": "[encoded data removed]",
      "text/plain": [
       "<Figure size 640x480 with 1 Axes>"
      ]
     },
     "metadata": {},
     "output_type": "display_data"
    }
   ],
   "source": [
    "sns.set_style('whitegrid')\n",
    "\n",
    "fig = sns.histplot(x = 'education_level', data = df, hue = 'education_level', palette = 'viridis')"
   ]
  },
  {
   "cell_type": "markdown",
   "metadata": {},
   "source": [
    "Notamos que os níveis de educação são bem discrepantes, mas, em sua maioria, os clientes possuem graduação. No geral, pode-se dizer que os clientes tem níveis superiores de educação."
   ]
  },
  {
   "cell_type": "code",
   "execution_count": 52,
   "metadata": {},
   "outputs": [
    {
     "data": {
      "text/plain": [
       "marital_status\n",
       "Married     854\n",
       "Together    568\n",
       "Single      477\n",
       "Divorced    230\n",
       "Widow        76\n",
       "Name: count, dtype: int64"
      ]
     },
     "execution_count": 52,
     "metadata": {},
     "output_type": "execute_result"
    }
   ],
   "source": [
    "# Vendo quantos clientes tem em cada estado civil\n",
    "\n",
    "df.marital_status.value_counts()"
   ]
  },
  {
   "cell_type": "code",
   "execution_count": 53,
   "metadata": {},
   "outputs": [
    {
     "data": {
      "image/png": "[encoded data removed]",
      "text/plain": [
       "<Figure size 640x480 with 1 Axes>"
      ]
     },
     "metadata": {},
     "output_type": "display_data"
    }
   ],
   "source": [
    "sns.set_style('whitegrid')\n",
    "\n",
    "fig = sns.histplot(x='marital_status', data = df, hue = 'marital_status', palette = 'viridis')"
   ]
  },
  {
   "cell_type": "markdown",
   "metadata": {},
   "source": [
    "A maior parte dos clientes é casada ou moram juntos e poucos são viúvos."
   ]
  },
  {
   "cell_type": "markdown",
   "metadata": {},
   "source": [
    "Agora vamos ver como os dados se correlacionam\n",
    "\n",
    "- Qual é a relação de estado civil com número de filhos? Será que as pessoas casadas têm um maior número de filhos? Filhos está na coluna kids\n",
    "- As pessoas gastam mais ou menos em nossa plataforma quando têm filhos? Veja nas colunas expenses e kids\n",
    "- Pessoas que têm um maior salário gastam mais? Veja nas colunas Income e expenses"
   ]
  },
  {
   "cell_type": "code",
   "execution_count": 54,
   "metadata": {},
   "outputs": [
    {
     "data": {
      "image/png": "[encoded data removed]",
      "text/plain": [
       "<Figure size 640x480 with 1 Axes>"
      ]
     },
     "metadata": {},
     "output_type": "display_data"
    }
   ],
   "source": [
    "# Vendo como o estado civil se relaciona com o número de filhos\n",
    "sns.set_style('whitegrid')\n",
    "\n",
    "fig = sns.boxplot(x='marital_status', y ='kids', data = df, hue = 'marital_status', palette = 'viridis')\n",
    "\n",
    "# fig = sns.scatterplot(x='marital_status', y ='kids', data= df, hue ='marital_status', palette = 'viridis')"
   ]
  },
  {
   "cell_type": "code",
   "execution_count": 55,
   "metadata": {},
   "outputs": [
    {
     "data": {
      "text/plain": [
       "kids\n",
       "1    119\n",
       "0     57\n",
       "2     49\n",
       "3      5\n",
       "Name: count, dtype: int64"
      ]
     },
     "execution_count": 55,
     "metadata": {},
     "output_type": "execute_result"
    }
   ],
   "source": [
    "# Entendendo porque o boxplot de divorced está estranho\n",
    "\n",
    "df.query(\"marital_status == 'Divorced'\")[\"kids\"].value_counts()"
   ]
  },
  {
   "cell_type": "code",
   "execution_count": 56,
   "metadata": {},
   "outputs": [
    {
     "data": {
      "text/html": [
       "<div>\n",
       "<style scoped>\n",
       "    .dataframe tbody tr th:only-of-type {\n",
       "        vertical-align: middle;\n",
       "    }\n",
       "\n",
       "    .dataframe tbody tr th {\n",
       "        vertical-align: top;\n",
       "    }\n",
       "\n",
       "    .dataframe thead th {\n",
       "        text-align: right;\n",
       "    }\n",
       "</style>\n",
       "<table border=\"1\" class=\"dataframe\">\n",
       "  <thead>\n",
       "    <tr style=\"text-align: right;\">\n",
       "      <th></th>\n",
       "      <th>count</th>\n",
       "      <th>mean</th>\n",
       "      <th>std</th>\n",
       "      <th>min</th>\n",
       "      <th>25%</th>\n",
       "      <th>50%</th>\n",
       "      <th>75%</th>\n",
       "      <th>max</th>\n",
       "    </tr>\n",
       "    <tr>\n",
       "      <th>marital_status</th>\n",
       "      <th></th>\n",
       "      <th></th>\n",
       "      <th></th>\n",
       "      <th></th>\n",
       "      <th></th>\n",
       "      <th></th>\n",
       "      <th></th>\n",
       "      <th></th>\n",
       "    </tr>\n",
       "  </thead>\n",
       "  <tbody>\n",
       "    <tr>\n",
       "      <th>Divorced</th>\n",
       "      <td>230.0</td>\n",
       "      <td>1.008696</td>\n",
       "      <td>0.741716</td>\n",
       "      <td>0.0</td>\n",
       "      <td>1.0</td>\n",
       "      <td>1.0</td>\n",
       "      <td>1.0</td>\n",
       "      <td>3.0</td>\n",
       "    </tr>\n",
       "    <tr>\n",
       "      <th>Married</th>\n",
       "      <td>854.0</td>\n",
       "      <td>0.967213</td>\n",
       "      <td>0.732019</td>\n",
       "      <td>0.0</td>\n",
       "      <td>0.0</td>\n",
       "      <td>1.0</td>\n",
       "      <td>1.0</td>\n",
       "      <td>3.0</td>\n",
       "    </tr>\n",
       "    <tr>\n",
       "      <th>Single</th>\n",
       "      <td>477.0</td>\n",
       "      <td>0.859539</td>\n",
       "      <td>0.777289</td>\n",
       "      <td>0.0</td>\n",
       "      <td>0.0</td>\n",
       "      <td>1.0</td>\n",
       "      <td>1.0</td>\n",
       "      <td>3.0</td>\n",
       "    </tr>\n",
       "    <tr>\n",
       "      <th>Together</th>\n",
       "      <td>568.0</td>\n",
       "      <td>0.980634</td>\n",
       "      <td>0.749823</td>\n",
       "      <td>0.0</td>\n",
       "      <td>0.0</td>\n",
       "      <td>1.0</td>\n",
       "      <td>1.0</td>\n",
       "      <td>3.0</td>\n",
       "    </tr>\n",
       "    <tr>\n",
       "      <th>Widow</th>\n",
       "      <td>76.0</td>\n",
       "      <td>0.881579</td>\n",
       "      <td>0.747745</td>\n",
       "      <td>0.0</td>\n",
       "      <td>0.0</td>\n",
       "      <td>1.0</td>\n",
       "      <td>1.0</td>\n",
       "      <td>2.0</td>\n",
       "    </tr>\n",
       "  </tbody>\n",
       "</table>\n",
       "</div>"
      ],
      "text/plain": [
       "                count      mean       std  min  25%  50%  75%  max\n",
       "marital_status                                                    \n",
       "Divorced        230.0  1.008696  0.741716  0.0  1.0  1.0  1.0  3.0\n",
       "Married         854.0  0.967213  0.732019  0.0  0.0  1.0  1.0  3.0\n",
       "Single          477.0  0.859539  0.777289  0.0  0.0  1.0  1.0  3.0\n",
       "Together        568.0  0.980634  0.749823  0.0  0.0  1.0  1.0  3.0\n",
       "Widow            76.0  0.881579  0.747745  0.0  0.0  1.0  1.0  2.0"
      ]
     },
     "execution_count": 56,
     "metadata": {},
     "output_type": "execute_result"
    }
   ],
   "source": [
    "df.groupby(['marital_status']).kids.describe()"
   ]
  },
  {
   "cell_type": "code",
   "execution_count": 57,
   "metadata": {},
   "outputs": [
    {
     "data": {
      "text/plain": [
       "marital_status\n",
       "Divorced    1.0\n",
       "Married     1.0\n",
       "Single      1.0\n",
       "Together    1.0\n",
       "Widow       1.0\n",
       "Name: kids, dtype: float64"
      ]
     },
     "execution_count": 57,
     "metadata": {},
     "output_type": "execute_result"
    }
   ],
   "source": [
    "# Calculando mediana de filhos por status de união\n",
    "\n",
    "df.groupby('marital_status').kids.median()"
   ]
  },
  {
   "cell_type": "markdown",
   "metadata": {},
   "source": [
    "Os números são bem próximos. Olhando somente a média, podemos indicar que os solteiros tem uma quantidade menor de filhos quando comparado aos outros grupos. Porém, quando analisamos no boxplot e mediana os números estão muito próximos uns dos outros. Por isso, seria necessário um teste de hipótese para comprovar as diferenças."
   ]
  },
  {
   "cell_type": "code",
   "execution_count": 58,
   "metadata": {},
   "outputs": [
    {
     "data": {
      "image/png": "[encoded data removed]",
      "text/plain": [
       "<Figure size 640x480 with 1 Axes>"
      ]
     },
     "metadata": {},
     "output_type": "display_data"
    }
   ],
   "source": [
    "sns.set_style('whitegrid')\n",
    "fig = sns.boxplot(x='kids', y='expenses', data = df, hue = 'kids', palette = 'viridis')"
   ]
  },
  {
   "cell_type": "code",
   "execution_count": 59,
   "metadata": {},
   "outputs": [
    {
     "data": {
      "text/html": [
       "<div>\n",
       "<style scoped>\n",
       "    .dataframe tbody tr th:only-of-type {\n",
       "        vertical-align: middle;\n",
       "    }\n",
       "\n",
       "    .dataframe tbody tr th {\n",
       "        vertical-align: top;\n",
       "    }\n",
       "\n",
       "    .dataframe thead th {\n",
       "        text-align: right;\n",
       "    }\n",
       "</style>\n",
       "<table border=\"1\" class=\"dataframe\">\n",
       "  <thead>\n",
       "    <tr style=\"text-align: right;\">\n",
       "      <th></th>\n",
       "      <th>count</th>\n",
       "      <th>mean</th>\n",
       "      <th>std</th>\n",
       "      <th>min</th>\n",
       "      <th>25%</th>\n",
       "      <th>50%</th>\n",
       "      <th>75%</th>\n",
       "      <th>max</th>\n",
       "    </tr>\n",
       "    <tr>\n",
       "      <th>kids</th>\n",
       "      <th></th>\n",
       "      <th></th>\n",
       "      <th></th>\n",
       "      <th></th>\n",
       "      <th></th>\n",
       "      <th></th>\n",
       "      <th></th>\n",
       "      <th></th>\n",
       "    </tr>\n",
       "  </thead>\n",
       "  <tbody>\n",
       "    <tr>\n",
       "      <th>0</th>\n",
       "      <td>628.0</td>\n",
       "      <td>1041.207006</td>\n",
       "      <td>625.734894</td>\n",
       "      <td>5.0</td>\n",
       "      <td>546.00</td>\n",
       "      <td>1106.5</td>\n",
       "      <td>1505.50</td>\n",
       "      <td>2491.0</td>\n",
       "    </tr>\n",
       "    <tr>\n",
       "      <th>1</th>\n",
       "      <td>1112.0</td>\n",
       "      <td>434.530576</td>\n",
       "      <td>452.606603</td>\n",
       "      <td>4.0</td>\n",
       "      <td>50.00</td>\n",
       "      <td>264.0</td>\n",
       "      <td>762.25</td>\n",
       "      <td>2036.0</td>\n",
       "    </tr>\n",
       "    <tr>\n",
       "      <th>2</th>\n",
       "      <td>415.0</td>\n",
       "      <td>221.568675</td>\n",
       "      <td>290.259678</td>\n",
       "      <td>8.0</td>\n",
       "      <td>39.00</td>\n",
       "      <td>84.0</td>\n",
       "      <td>296.50</td>\n",
       "      <td>1627.0</td>\n",
       "    </tr>\n",
       "    <tr>\n",
       "      <th>3</th>\n",
       "      <td>50.0</td>\n",
       "      <td>237.380000</td>\n",
       "      <td>390.174157</td>\n",
       "      <td>6.0</td>\n",
       "      <td>28.25</td>\n",
       "      <td>62.0</td>\n",
       "      <td>254.00</td>\n",
       "      <td>1601.0</td>\n",
       "    </tr>\n",
       "  </tbody>\n",
       "</table>\n",
       "</div>"
      ],
      "text/plain": [
       "       count         mean         std  min     25%     50%      75%     max\n",
       "kids                                                                       \n",
       "0      628.0  1041.207006  625.734894  5.0  546.00  1106.5  1505.50  2491.0\n",
       "1     1112.0   434.530576  452.606603  4.0   50.00   264.0   762.25  2036.0\n",
       "2      415.0   221.568675  290.259678  8.0   39.00    84.0   296.50  1627.0\n",
       "3       50.0   237.380000  390.174157  6.0   28.25    62.0   254.00  1601.0"
      ]
     },
     "execution_count": 59,
     "metadata": {},
     "output_type": "execute_result"
    }
   ],
   "source": [
    "# Vendo se as pessoas gastam mais ou menos quando tem filhos\n",
    "\n",
    "df.groupby('kids').expenses.describe()"
   ]
  },
  {
   "cell_type": "markdown",
   "metadata": {},
   "source": [
    "Até aqui podemos inferir que as pessoas tendem a gastar mais quando não tem filhos ou quando tem só 1. Notamos também alguns outliers para 1, 2 ou 3 filhos, o que influencia no cálculo da média. Vamos analisar mais."
   ]
  },
  {
   "cell_type": "code",
   "execution_count": 60,
   "metadata": {},
   "outputs": [
    {
     "data": {
      "text/plain": [
       "kids\n",
       "0    1106.5\n",
       "1     264.0\n",
       "2      84.0\n",
       "3      62.0\n",
       "Name: expenses, dtype: float64"
      ]
     },
     "execution_count": 60,
     "metadata": {},
     "output_type": "execute_result"
    }
   ],
   "source": [
    "# Mediana\n",
    "\n",
    "df.groupby('kids').expenses.median()"
   ]
  },
  {
   "cell_type": "code",
   "execution_count": 61,
   "metadata": {},
   "outputs": [
    {
     "data": {
      "image/png": "[encoded data removed]",
      "text/plain": [
       "<Figure size 640x480 with 1 Axes>"
      ]
     },
     "metadata": {},
     "output_type": "display_data"
    }
   ],
   "source": [
    "# Analisando se pessoas que tem maior salário gastam mais\n",
    "\n",
    "fig = sns.scatterplot(x='expenses', y= 'Income', data = df, hue = 'expenses', palette = 'viridis')"
   ]
  },
  {
   "cell_type": "code",
   "execution_count": 62,
   "metadata": {},
   "outputs": [
    {
     "data": {
      "text/plain": [
       "0.823066002139838"
      ]
     },
     "execution_count": 62,
     "metadata": {},
     "output_type": "execute_result"
    }
   ],
   "source": [
    "df['expenses'].corr(df['Income'])"
   ]
  },
  {
   "cell_type": "markdown",
   "metadata": {},
   "source": [
    "A correlação de Pearson indica um resultado de 0.82. Com isso, aparentemente existe uma correlação diretamente proporcional, em que as pessoas que ganham mais também gastam mais."
   ]
  }
 ],
 "metadata": {
  "kernelspec": {
   "display_name": "Python 3",
   "language": "python",
   "name": "python3"
  },
  "language_info": {
   "codemirror_mode": {
    "name": "ipython",
    "version": 3
   },
   "file_extension": ".py",
   "mimetype": "text/x-python",
   "name": "python",
   "nbconvert_exporter": "python",
   "pygments_lexer": "ipython3",
   "version": "3.11.4"
  }
 },
 "nbformat": 4,
 "nbformat_minor": 2
}
